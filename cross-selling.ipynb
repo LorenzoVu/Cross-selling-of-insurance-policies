{
 "cells": [
  {
   "cell_type": "markdown",
   "id": "dfdcd464",
   "metadata": {},
   "source": [
    "# Cross selling of insurance policies\n",
    "\n",
    "AssurePredict is a leading insurance company that specializes in providing innovative risk management solutions. This project aims to create a predictive model that can identify potential cross-selling opportunities for existing customers, identifying those who might be interested in purchasing an additional policy for their vehicle."
   ]
  },
  {
   "cell_type": "code",
   "execution_count": null,
   "id": "00e0e202",
   "metadata": {},
   "outputs": [],
   "source": [
    "#Import"
   ]
  }
 ],
 "metadata": {
  "kernelspec": {
   "display_name": "Python 3",
   "language": "python",
   "name": "python3"
  },
  "language_info": {
   "name": "python",
   "version": "3.12.1"
  }
 },
 "nbformat": 4,
 "nbformat_minor": 5
}
